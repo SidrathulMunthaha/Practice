{
 "cells": [
  {
   "cell_type": "markdown",
   "id": "46924998",
   "metadata": {},
   "source": [
    "write a python pgm to find common elements in a list"
   ]
  },
  {
   "cell_type": "code",
   "execution_count": 3,
   "id": "97c0fd49",
   "metadata": {},
   "outputs": [
    {
     "data": {
      "text/plain": [
       "[1, 2]"
      ]
     },
     "execution_count": 3,
     "metadata": {},
     "output_type": "execute_result"
    }
   ],
   "source": [
    "def common_elements(list1,list2):\n",
    "    list3=[]\n",
    "    for i in list1:\n",
    "        for j in list2:\n",
    "            if i==j:\n",
    "                list3.append(i)\n",
    "    return list3\n",
    "\n",
    "common_elements([1,2,3,4],[1,2,8,9])"
   ]
  },
  {
   "cell_type": "code",
   "execution_count": null,
   "id": "1df85185",
   "metadata": {},
   "outputs": [],
   "source": []
  }
 ],
 "metadata": {
  "kernelspec": {
   "display_name": "Python 3 (ipykernel)",
   "language": "python",
   "name": "python3"
  },
  "language_info": {
   "codemirror_mode": {
    "name": "ipython",
    "version": 3
   },
   "file_extension": ".py",
   "mimetype": "text/x-python",
   "name": "python",
   "nbconvert_exporter": "python",
   "pygments_lexer": "ipython3",
   "version": "3.9.7"
  }
 },
 "nbformat": 4,
 "nbformat_minor": 5
}
